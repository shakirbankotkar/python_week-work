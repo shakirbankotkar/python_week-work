{
  "nbformat": 4,
  "nbformat_minor": 0,
  "metadata": {
    "colab": {
      "provenance": [],
      "collapsed_sections": [],
      "authorship_tag": "ABX9TyOkhqPG/AUnNUL1CIS1nhHp",
      "include_colab_link": true
    },
    "kernelspec": {
      "name": "python3",
      "display_name": "Python 3"
    },
    "language_info": {
      "name": "python"
    }
  },
  "cells": [
    {
      "cell_type": "markdown",
      "metadata": {
        "id": "view-in-github",
        "colab_type": "text"
      },
      "source": [
        "<a href=\"https://colab.research.google.com/github/shakirbankotkar/python_week-work/blob/main/python_week_1.ipynb\" target=\"_parent\"><img src=\"https://colab.research.google.com/assets/colab-badge.svg\" alt=\"Open In Colab\"/></a>"
      ]
    },
    {
      "cell_type": "markdown",
      "metadata": {
        "id": "gs6JvD06aflC"
      },
      "source": [
        "**Section A: FUNDAMENTALS OF PYTHON**"
      ]
    },
    {
      "cell_type": "code",
      "execution_count": null,
      "metadata": {
        "colab": {
          "base_uri": "https://localhost:8080/"
        },
        "id": "CRBXyWEdP8re",
        "outputId": "7b953bc9-c9f9-4b0d-b3e5-cbfe4fefc867"
      },
      "outputs": [
        {
          "output_type": "stream",
          "name": "stdout",
          "text": [
            "Hello Python\n"
          ]
        }
      ],
      "source": [
        "# Write a python program to print\"hello python\"\n",
        "a= \"Hello Python\"\n",
        "print(a)"
      ]
    },
    {
      "cell_type": "code",
      "execution_count": null,
      "metadata": {
        "colab": {
          "base_uri": "https://localhost:8080/"
        },
        "id": "UTXQZq-DXcHA",
        "outputId": "defef4ee-8845-450d-efeb-d57ddf0f98f3"
      },
      "outputs": [
        {
          "output_type": "stream",
          "name": "stdout",
          "text": [
            "30\n",
            "2.0\n"
          ]
        }
      ],
      "source": [
        "# Write a python program to do arithmetical operations addition and division.\n",
        "a=20\n",
        "b=10\n",
        "print(a+b)\n",
        "print(a/b)"
      ]
    },
    {
      "cell_type": "code",
      "execution_count": null,
      "metadata": {
        "colab": {
          "base_uri": "https://localhost:8080/"
        },
        "id": "qjPApNgdba02",
        "outputId": "a71cffdb-b632-4247-c3a2-99e2f2634d7d"
      },
      "outputs": [
        {
          "output_type": "stream",
          "name": "stdout",
          "text": [
            "900.0\n"
          ]
        }
      ],
      "source": [
        "# Write a python program to find the area of a triangle.\n",
        "base=30\n",
        "height=60\n",
        "print(0.5*base*height)"
      ]
    },
    {
      "cell_type": "code",
      "execution_count": null,
      "metadata": {
        "colab": {
          "base_uri": "https://localhost:8080/"
        },
        "id": "I6yfnX3WcPwd",
        "outputId": "b35c6c36-08d2-497f-d5cf-e94253fa21af"
      },
      "outputs": [
        {
          "output_type": "stream",
          "name": "stdout",
          "text": [
            "a=  20\n",
            "b=  10\n"
          ]
        }
      ],
      "source": [
        "# Write a python program to swap two variables.\n",
        "a=10\n",
        "b=20\n",
        "a,b=b,a\n",
        "print(\"a= \",a)\n",
        "print(\"b= \",b)"
      ]
    },
    {
      "cell_type": "code",
      "execution_count": null,
      "metadata": {
        "colab": {
          "base_uri": "https://localhost:8080/"
        },
        "id": "RxGeUUgid8fj",
        "outputId": "75118dff-3dc6-44c8-ca58-0c1886eef628"
      },
      "outputs": [
        {
          "output_type": "stream",
          "name": "stdout",
          "text": [
            "Number=  0.5736605324195392\n"
          ]
        }
      ],
      "source": [
        "# Write a python program to generate a random number.\n",
        "import random\n",
        "n=random.random()\n",
        "print(\"Number= \",n)"
      ]
    },
    {
      "cell_type": "markdown",
      "metadata": {
        "id": "eoKOUn8S_zem"
      },
      "source": [
        "***Section B:***"
      ]
    },
    {
      "cell_type": "code",
      "execution_count": null,
      "metadata": {
        "colab": {
          "base_uri": "https://localhost:8080/"
        },
        "id": "duCu9Aaq_9om",
        "outputId": "5d48f139-3020-49d4-f0eb-fb3342b5bbcd"
      },
      "outputs": [
        {
          "output_type": "stream",
          "name": "stdout",
          "text": [
            "enter kilometer value: 20\n",
            "20.0 kilometer is equal to 12.42742 miles\n"
          ]
        }
      ],
      "source": [
        "# Write a python program to convert kilometer to miles.\n",
        "kilometer = float(input(\"enter kilometer value: \"))\n",
        "miles = kilometer*0.621371\n",
        "print(kilometer,\"kilometer is equal to\",miles,\"miles\") "
      ]
    },
    {
      "cell_type": "code",
      "execution_count": null,
      "metadata": {
        "colab": {
          "base_uri": "https://localhost:8080/"
        },
        "id": "3ulXyPXkA8bA",
        "outputId": "112a123a-b7c4-4573-be47-8a31d6f2f187"
      },
      "outputs": [
        {
          "output_type": "stream",
          "name": "stdout",
          "text": [
            "enter the value of temperatue in degree celsius: 54\n",
            "54.0 degree celsius is equal to 129.2 fahrenheit\n"
          ]
        }
      ],
      "source": [
        "# Write a python program to convert celsius to fahrenheit.\n",
        "celsius = float(input(\"enter the value of temperatue in degree celsius: \"))\n",
        "fahrenheit = (celsius*1.8) + 32\n",
        "print(celsius,\"degree celsius is equal to\",fahrenheit,\"fahrenheit\")"
      ]
    },
    {
      "cell_type": "code",
      "execution_count": null,
      "metadata": {
        "colab": {
          "base_uri": "https://localhost:8080/"
        },
        "id": "7Xy0BPS7DCIF",
        "outputId": "fd04042e-d6b8-4142-8194-b57069541d5b"
      },
      "outputs": [
        {
          "output_type": "stream",
          "name": "stdout",
          "text": [
            "enter the year: 2004\n",
            "enter the month: 05\n",
            "      May 2004\n",
            "Mo Tu We Th Fr Sa Su\n",
            "                1  2\n",
            " 3  4  5  6  7  8  9\n",
            "10 11 12 13 14 15 16\n",
            "17 18 19 20 21 22 23\n",
            "24 25 26 27 28 29 30\n",
            "31\n",
            "\n"
          ]
        }
      ],
      "source": [
        "# write a python program to display calendar.\n",
        "import calendar \n",
        "year = int(input(\"enter the year: \"))\n",
        "mon= int(input(\"enter the month: \"))\n",
        "print(calendar.month(year,mon))"
      ]
    },
    {
      "cell_type": "code",
      "source": [
        "# Write a python program to solve quadratic equation.\n",
        "import cmath\n",
        "a = 1\n",
        "b = 5\n",
        "c = 6\n",
        "d = (b**2)-(4*a*c)\n",
        "sol1 = (-b-cmath.sqrt(d))/(2*a)\n",
        "sol2 = (-b+cmath.sqrt(d))/(2*a)\n",
        "print('The solutions are {0} and {1}'.format(sol1,sol2))"
      ],
      "metadata": {
        "colab": {
          "base_uri": "https://localhost:8080/"
        },
        "id": "F5tdISDaIeqV",
        "outputId": "13233e86-fc59-4eb6-f8f0-e0ab0afd38e1"
      },
      "execution_count": null,
      "outputs": [
        {
          "output_type": "stream",
          "name": "stdout",
          "text": [
            "The solutions are (-3+0j) and (-2+0j)\n"
          ]
        }
      ]
    },
    {
      "cell_type": "code",
      "source": [
        "# Write a python program to swap two variables without temp variable.\n",
        "x = 10\n",
        "y = 5\n",
        "x = x+y\n",
        "y = x-y\n",
        "x = x-y\n",
        "print('After swapping: x =',x,'y=',y)"
      ],
      "metadata": {
        "colab": {
          "base_uri": "https://localhost:8080/"
        },
        "id": "JdG4SiVqKfov",
        "outputId": "d37b27bf-bf08-4aed-b8a0-c4ae612b1c63"
      },
      "execution_count": null,
      "outputs": [
        {
          "output_type": "stream",
          "name": "stdout",
          "text": [
            "After swapping: x = 5 y= 10\n"
          ]
        }
      ]
    },
    {
      "cell_type": "code",
      "source": [
        "# Write a python program to check if a number is positive,negative or zero.\n",
        "num = float(input(\"Enter a number: \"))\n",
        "if num >= 0:\n",
        "  if num == 0:\n",
        "    print(\"Zero\")\n",
        "  else:\n",
        "    print(\"Positive number\")\n",
        "else:\n",
        "  print(\"Negative number\")    "
      ],
      "metadata": {
        "id": "DsAwAMHhNdKC",
        "colab": {
          "base_uri": "https://localhost:8080/"
        },
        "outputId": "f670fc32-35e8-4ef5-c23e-e98f53f67d9a"
      },
      "execution_count": null,
      "outputs": [
        {
          "output_type": "stream",
          "name": "stdout",
          "text": [
            "Enter a number: 0\n",
            "Zero\n"
          ]
        }
      ]
    },
    {
      "cell_type": "code",
      "source": [
        "# Write a python program to check if a number is odd or even.\n",
        "num = int(input(\"Enter a number:\"))\n",
        "if (num%2)==0:\n",
        "  print(\"{0} is Even\".format(num))\n",
        "else:\n",
        "  print(\"{0} is Odd\".format(num))  "
      ],
      "metadata": {
        "colab": {
          "base_uri": "https://localhost:8080/"
        },
        "id": "x6O1ppnpQXUR",
        "outputId": "c8a1ed2d-ca1c-40f8-a4e4-b5dcf5c003e6"
      },
      "execution_count": null,
      "outputs": [
        {
          "output_type": "stream",
          "name": "stdout",
          "text": [
            "Enter a number:8\n",
            "8 is Even\n"
          ]
        }
      ]
    },
    {
      "cell_type": "code",
      "source": [
        "# Write a python program to check leap year. \n",
        "year = int(input(\"Enter a year: \"))\n",
        "if ((year % 4 == 0) and (year % 100 == 0) or (year%400 == 0)):\n",
        "  print(\"{0} is a leap year\".format(year))\n",
        "else:\n",
        "  print(\"{0} is not a leap year\".format(year))   "
      ],
      "metadata": {
        "colab": {
          "base_uri": "https://localhost:8080/"
        },
        "id": "KAc0YMdoRMVF",
        "outputId": "b945f3d6-1e93-4d6b-ca9d-a5b2321de8ff"
      },
      "execution_count": null,
      "outputs": [
        {
          "output_type": "stream",
          "name": "stdout",
          "text": [
            "Enter a year: 239\n",
            "239 is not a leap year\n"
          ]
        }
      ]
    },
    {
      "cell_type": "code",
      "source": [
        "# Write a python program to check prime number.\n",
        "num = int(input(\"Enter a number: \"))\n",
        "flag = False\n",
        "if num > 1:\n",
        "  for i in range(2,num):\n",
        "    flag = True\n",
        "    break\n",
        "if flag:\n",
        "  print(num, \"is not a prime number\")\n",
        "else:\n",
        "  print(num, \"is a prime number\")"
      ],
      "metadata": {
        "colab": {
          "base_uri": "https://localhost:8080/"
        },
        "id": "NBkUif-WSVCt",
        "outputId": "fb14a6cc-c19d-4cf3-eaba-0a4620482420"
      },
      "execution_count": null,
      "outputs": [
        {
          "output_type": "stream",
          "name": "stdout",
          "text": [
            "Enter a number: 3\n",
            "3 is not a prime number\n"
          ]
        }
      ]
    },
    {
      "cell_type": "code",
      "source": [
        "# Write a python program to print all prime numbers in an interval of 1-10000.\n",
        "lower = int(input(\"Enter lower range: \"))\n",
        "upper = int(input(\"Enter upper range: \"))\n",
        "print(\"Prime numbers between\",lower, \"and\", upper, \"are:\")\n",
        "for num in range(lower ,upper + 1):\n",
        "  if num > 1:\n",
        "    for i in range(2, num):\n",
        "      if (num % i) == 0:\n",
        "        break\n",
        "    else:\n",
        "        print(num)"
      ],
      "metadata": {
        "id": "zza9_AxbWBzt",
        "colab": {
          "base_uri": "https://localhost:8080/"
        },
        "outputId": "cad33290-1001-4c3c-a98d-b6ceb5e0ba81"
      },
      "execution_count": null,
      "outputs": [
        {
          "output_type": "stream",
          "name": "stdout",
          "text": [
            "Enter lower range: 1\n",
            "Enter upper range: 100\n",
            "Prime numbers between 1 and 100 are:\n",
            "2\n",
            "3\n",
            "5\n",
            "7\n",
            "11\n",
            "13\n",
            "17\n",
            "19\n",
            "23\n",
            "29\n",
            "31\n",
            "37\n",
            "41\n",
            "43\n",
            "47\n",
            "53\n",
            "59\n",
            "61\n",
            "67\n",
            "71\n",
            "73\n",
            "79\n",
            "83\n",
            "89\n",
            "97\n"
          ]
        }
      ]
    },
    {
      "cell_type": "markdown",
      "source": [
        "***section:D***"
      ],
      "metadata": {
        "id": "V_t3Ipj-XwMa"
      }
    },
    {
      "cell_type": "code",
      "source": [
        "# Write a python program to find the factorial of a number.\n",
        "num = int(input(\"Enter a number: \"))\n",
        "factorial = 1\n",
        "if num < 0:\n",
        "  print(\"Sorry, factorial does not exist for negative numbers\")\n",
        "elif num == 0:\n",
        "  print(\"the factorial of 0 is 1\")\n",
        "else:\n",
        "  for i in range(1,num + 1):\n",
        "    factorial = factorial*i\n",
        "  print(\"The factorial of\",num,\"is\",factorial)"
      ],
      "metadata": {
        "colab": {
          "base_uri": "https://localhost:8080/"
        },
        "id": "-BMLlcSAXp80",
        "outputId": "88d1e0d9-4e22-4d58-d7f7-e30249f1b2f3"
      },
      "execution_count": null,
      "outputs": [
        {
          "output_type": "stream",
          "name": "stdout",
          "text": [
            "Enter a number: 50\n",
            "The factorial of 50 is 30414093201713378043612608166064768844377641568960512000000000000\n"
          ]
        }
      ]
    },
    {
      "cell_type": "code",
      "source": [
        "# Write a python program to display the multiplication table.\n",
        "num = int(input(\"Display multiplication table of: \"))\n",
        "for i in range(1,11):\n",
        "  print(num,\"x\", i, \"=\",num*i)"
      ],
      "metadata": {
        "colab": {
          "base_uri": "https://localhost:8080/"
        },
        "id": "WFY9isIqZT3u",
        "outputId": "d2c7a731-f23a-49f0-85de-57838fd735c9"
      },
      "execution_count": null,
      "outputs": [
        {
          "output_type": "stream",
          "name": "stdout",
          "text": [
            "Display multiplication table of: 7\n",
            "7 x 1 = 7\n",
            "7 x 2 = 14\n",
            "7 x 3 = 21\n",
            "7 x 4 = 28\n",
            "7 x 5 = 35\n",
            "7 x 6 = 42\n",
            "7 x 7 = 49\n",
            "7 x 8 = 56\n",
            "7 x 9 = 63\n",
            "7 x 10 = 70\n"
          ]
        }
      ]
    },
    {
      "cell_type": "code",
      "source": [
        "# Write a python program to print fibonacci sequence.\n",
        "nterms = int(input(\"How many terms?\"))\n",
        "n1, n2 = 0, 1\n",
        "count = 0\n",
        "if nterms <= 0:\n",
        "  print(\"please enter a positive integer\")\n",
        "elif nterms == 1:\n",
        "  print(\"Fibonacci sequence upto\",nterms,\":\")\n",
        "  print(n1)\n",
        "else:\n",
        "  print(\"Fibonacci sequence:\")\n",
        "  while count < nterms:\n",
        "    print(n1)\n",
        "    nth = n1 + n2\n",
        "    n1 = n2\n",
        "    n2 = nth\n",
        "    count +=1"
      ],
      "metadata": {
        "colab": {
          "base_uri": "https://localhost:8080/"
        },
        "id": "7qMYMAlRcwHe",
        "outputId": "626d1bc8-839c-4dac-9423-b48374d98b31"
      },
      "execution_count": null,
      "outputs": [
        {
          "output_type": "stream",
          "name": "stdout",
          "text": [
            "How many terms?20\n",
            "Fibonacci sequence:\n",
            "0\n",
            "1\n",
            "1\n",
            "2\n",
            "3\n",
            "5\n",
            "8\n",
            "13\n",
            "21\n",
            "34\n",
            "55\n",
            "89\n",
            "144\n",
            "233\n",
            "377\n",
            "610\n",
            "987\n",
            "1597\n",
            "2584\n",
            "4181\n"
          ]
        }
      ]
    },
    {
      "cell_type": "code",
      "source": [
        "# Write a python program to check armstrong number.\n",
        "num = int(input(\"Enter a number: \"))\n",
        "sum = 0\n",
        "temp = num\n",
        "while temp > 0:\n",
        "  digit = temp % 10\n",
        "  sum += digit**3\n",
        "  temp //= 10\n",
        "if num == sum:\n",
        "  print(num,\"is an Armstrong number.\")\n",
        "else:\n",
        "  print(num,\"is not an Armstrong number.\")"
      ],
      "metadata": {
        "colab": {
          "base_uri": "https://localhost:8080/"
        },
        "id": "vpOK9-74c3qt",
        "outputId": "fab46f5e-e0af-4108-dcb6-24a83e49b916"
      },
      "execution_count": null,
      "outputs": [
        {
          "output_type": "stream",
          "name": "stdout",
          "text": [
            "Enter a number: 345\n",
            "345 is not an Armstrong number.\n"
          ]
        }
      ]
    },
    {
      "cell_type": "code",
      "source": [
        "# Write a python program to find armstrong number in an interval.\n",
        "lower = int(input(\"Enter lower range: \"))\n",
        "upper = int(input(\"Enter upper range: \"))\n",
        "for num in range(lower , upper + 1):\n",
        "  order = len(str(num))\n",
        "  sum = 0\n",
        "  temp = num\n",
        "  while temp > 0:\n",
        "    digit = temp % 10\n",
        "    sum += digit**order\n",
        "    temp//= 10\n",
        "  if num == sum:\n",
        "    print(num)"
      ],
      "metadata": {
        "colab": {
          "base_uri": "https://localhost:8080/"
        },
        "id": "eaRCFmXadBEH",
        "outputId": "22ceb8c0-2917-4cf0-9c9d-f66adb7e9703"
      },
      "execution_count": null,
      "outputs": [
        {
          "output_type": "stream",
          "name": "stdout",
          "text": [
            "Enter lower range: 10\n",
            "Enter upper range: 1000\n",
            "153\n",
            "370\n",
            "371\n",
            "407\n"
          ]
        }
      ]
    },
    {
      "cell_type": "code",
      "source": [
        "# Write a python program to find the sum of natural numbers.\n",
        "num = int(input(\"Enter a number upto which you want to sum: \"))\n",
        "if num < 0:\n",
        "  print(\"Enter a positive number\")\n",
        "else:\n",
        "  sum = 0\n",
        "  while(num > 0):\n",
        "    sum += num\n",
        "    num -= 1\n",
        "  print(\"The sum is\", sum)"
      ],
      "metadata": {
        "id": "aigbPXJDdT8B",
        "colab": {
          "base_uri": "https://localhost:8080/"
        },
        "outputId": "d535581e-e9ba-41d9-9dc7-400b007f976f"
      },
      "execution_count": null,
      "outputs": [
        {
          "output_type": "stream",
          "name": "stdout",
          "text": [
            "Enter a number upto which you want to sum: 50\n",
            "The sum is 1275\n"
          ]
        }
      ]
    },
    {
      "cell_type": "markdown",
      "source": [
        "***section:E***"
      ],
      "metadata": {
        "id": "kcf19sh9dbrD"
      }
    },
    {
      "cell_type": "code",
      "source": [
        "#Write a python program to find sum of array.\n",
        "def _sum(arr):\n",
        "  sum=0\n",
        "  for i in arr:\n",
        "    sum = sum+i\n",
        "  return(sum)\n",
        "arr = [34,23,4,21,2]\n",
        "n = len(arr)\n",
        "ans = _sum(arr)\n",
        "print(\"sum of the array is \",ans)"
      ],
      "metadata": {
        "id": "9vY3KrudiFhM",
        "colab": {
          "base_uri": "https://localhost:8080/"
        },
        "outputId": "339c437a-f1f6-467a-81fa-921cc62ef9a1"
      },
      "execution_count": null,
      "outputs": [
        {
          "output_type": "stream",
          "name": "stdout",
          "text": [
            "sum of the array is  84\n"
          ]
        }
      ]
    },
    {
      "cell_type": "code",
      "source": [
        "#Write a python program to find largest element in an array.\n",
        "def largest(arr, n):\n",
        "    arr.sort()\n",
        "    return arr [n-1]\n",
        "arr = [324,888,32,45]\n",
        "n= len(arr)\n",
        "a= largest(arr,n)\n",
        "print(\"Largest in given array\", largest(arr,n)) "
      ],
      "metadata": {
        "id": "KYuXFWcxIW_v",
        "colab": {
          "base_uri": "https://localhost:8080/"
        },
        "outputId": "c68b0456-1c51-4129-8c8f-926fedc07e5b"
      },
      "execution_count": null,
      "outputs": [
        {
          "output_type": "stream",
          "name": "stdout",
          "text": [
            "Largest in given array 888\n"
          ]
        }
      ]
    },
    {
      "cell_type": "code",
      "source": [
        "#Write a python program for array rotation.\n",
        "arr = [1,2,3,4,5]\n",
        "n = 3\n",
        "\n",
        "print(\"Original array= \")\n",
        "for i in range(0,len(arr)):\n",
        "  print(arr[i])\n",
        "\n",
        "for i in range(0,n):\n",
        "    first = arr[0]\n",
        "    for j in range(0,len(arr)-1):\n",
        "      arr[j] = arr[j+1]\n",
        "    arr[len(arr)-1] = first\n",
        "print(\"Array after left rotation = \")\n",
        "for i in range(0,len(arr)):\n",
        "  print(arr[i])\n",
        "    "
      ],
      "metadata": {
        "id": "tMEhFdJ9Ja6a",
        "colab": {
          "base_uri": "https://localhost:8080/"
        },
        "outputId": "28905d88-6b01-45ec-fcdf-1b59a8b46de0"
      },
      "execution_count": null,
      "outputs": [
        {
          "output_type": "stream",
          "name": "stdout",
          "text": [
            "Original array= \n",
            "1\n",
            "2\n",
            "3\n",
            "4\n",
            "5\n",
            "Array after left rotation = \n",
            "4\n",
            "5\n",
            "1\n",
            "2\n",
            "3\n"
          ]
        }
      ]
    },
    {
      "cell_type": "code",
      "source": [
        "#Write a python program to split the array nd add the first part to end.\n",
        "def splitArr(a, n, k):\n",
        "    b = a[ :k]\n",
        "    return(a[k::]+b[::])\n",
        "arr = [12, 10, 5, 6, 52, 36]\n",
        "n = len(arr)\n",
        "position = 2\n",
        "arr = splitArr(arr,n,position)\n",
        "for i in range(0, n):\n",
        "    print(arr[i], end =' ')"
      ],
      "metadata": {
        "id": "m1zOKxHLLcQW",
        "colab": {
          "base_uri": "https://localhost:8080/"
        },
        "outputId": "a32e1897-5a6e-42aa-fd0f-b59d809d286f"
      },
      "execution_count": null,
      "outputs": [
        {
          "output_type": "stream",
          "name": "stdout",
          "text": [
            "5 6 52 36 12 10 "
          ]
        }
      ]
    },
    {
      "cell_type": "code",
      "source": [
        "#Write a python program to check if given array is monotonic.\n",
        "def isMonotonic(A):\n",
        "  return(all(A[i]<= A[i+1] for i in range(len(A) -1))or all(A[i] >= A[i+1] for i in range(len(A) - 1)))\n",
        "A = [6,5,4,4]\n",
        "print(isMonotonic(A))"
      ],
      "metadata": {
        "id": "3bCPyq2WMyc9",
        "colab": {
          "base_uri": "https://localhost:8080/"
        },
        "outputId": "fca762ac-527f-4761-eb17-64c1a02ba933"
      },
      "execution_count": null,
      "outputs": [
        {
          "output_type": "stream",
          "name": "stdout",
          "text": [
            "True\n"
          ]
        }
      ]
    },
    {
      "cell_type": "markdown",
      "source": [
        "***section:F***"
      ],
      "metadata": {
        "id": "Iy0C2tCAP699"
      }
    },
    {
      "cell_type": "code",
      "source": [
        "# Write a python program to find sum of elements in list.\n",
        "def _sum(arr):\n",
        "  sum = 0\n",
        "  for i in arr:\n",
        "    sum = sum + i\n",
        "  return(sum)\n",
        "lst = [2,6,7,13,5]\n",
        "d = _sum(lst)\n",
        "print(d)"
      ],
      "metadata": {
        "id": "MSYXNEIiOYJ8",
        "colab": {
          "base_uri": "https://localhost:8080/"
        },
        "outputId": "0210a081-6732-43be-ce7d-ea4b8857bec3"
      },
      "execution_count": null,
      "outputs": [
        {
          "output_type": "stream",
          "name": "stdout",
          "text": [
            "33\n"
          ]
        }
      ]
    },
    {
      "cell_type": "code",
      "source": [
        "#Write a python program to multiply all numbers in a list.\n",
        "list1 = [1,2,3]\n",
        "list2 = [3,2,4]\n",
        "from functools import reduce\n",
        "import operator\n",
        "print(reduce(operator.mul,list1,1))\n",
        "print(reduce(operator.mul,list2,1))"
      ],
      "metadata": {
        "id": "nNdiZfdXO8K_",
        "colab": {
          "base_uri": "https://localhost:8080/"
        },
        "outputId": "dffe34a9-c1db-4550-d95c-de59590f0fbc"
      },
      "execution_count": null,
      "outputs": [
        {
          "output_type": "stream",
          "name": "stdout",
          "text": [
            "6\n",
            "24\n"
          ]
        }
      ]
    },
    {
      "cell_type": "code",
      "source": [
        "# Write a python program to find smallest number in a list.\n",
        "list1 = [10,20,1,45,99]\n",
        "print(\"Smallest element is:\",min(list1))"
      ],
      "metadata": {
        "id": "2PF8LarqPwi1",
        "colab": {
          "base_uri": "https://localhost:8080/"
        },
        "outputId": "870ae6e6-5f48-4282-f8b5-1a7aa0a2c535"
      },
      "execution_count": null,
      "outputs": [
        {
          "output_type": "stream",
          "name": "stdout",
          "text": [
            "Smallest element is: 1\n"
          ]
        }
      ]
    },
    {
      "cell_type": "code",
      "source": [
        "# Write a python program to find largest number in a list.\n",
        "list2 = [10,20,1,45,99]\n",
        "print(\"Largest element is:\",max(list2))"
      ],
      "metadata": {
        "id": "xPJEHDEEQqdF",
        "colab": {
          "base_uri": "https://localhost:8080/"
        },
        "outputId": "aabf8254-2b00-42a5-b69f-47fdca92c46a"
      },
      "execution_count": null,
      "outputs": [
        {
          "output_type": "stream",
          "name": "stdout",
          "text": [
            "Largest element is: 99\n"
          ]
        }
      ]
    },
    {
      "cell_type": "code",
      "source": [
        "# Write a python program to find Second largest number in a list.\n",
        "list1 = [10,20,20,4,45,45,99,99]\n",
        "new_list = set(list1)\n",
        "new_list.remove(max(new_list))\n",
        "print(max(new_list))"
      ],
      "metadata": {
        "id": "7yml9zxWQ_Z9",
        "colab": {
          "base_uri": "https://localhost:8080/"
        },
        "outputId": "33d9a61f-5461-4c8b-e809-411cea123c8d"
      },
      "execution_count": null,
      "outputs": [
        {
          "output_type": "stream",
          "name": "stdout",
          "text": [
            "45\n"
          ]
        }
      ]
    },
    {
      "cell_type": "code",
      "source": [
        "# Write a python program to find N largest number in a list.\n",
        "l = [1000,298,400,300,234,-57,4325]\n",
        "n = int(input(\"How many largest element you want \"))\n",
        "l.sort()\n",
        "print(l[-n:])"
      ],
      "metadata": {
        "id": "dMcJOdn4RwlG",
        "colab": {
          "base_uri": "https://localhost:8080/"
        },
        "outputId": "cec4b81b-feee-4596-970f-fa9019e5544c"
      },
      "execution_count": null,
      "outputs": [
        {
          "output_type": "stream",
          "name": "stdout",
          "text": [
            "How many largest element you want 2\n",
            "[1000, 4325]\n"
          ]
        }
      ]
    },
    {
      "cell_type": "code",
      "source": [
        "# Write a python program to print even number in a list.\n",
        "#By usiong for loop.\n",
        "list1 = [10,21,4,45,66,93]\n",
        "for num in list1:\n",
        "  if num%2 ==0:\n",
        "    print(num,end=\" \")"
      ],
      "metadata": {
        "id": "VcsN97KHTMm_",
        "colab": {
          "base_uri": "https://localhost:8080/"
        },
        "outputId": "6f3f38e6-55bb-44fb-d6d6-ecbedee20296"
      },
      "execution_count": null,
      "outputs": [
        {
          "output_type": "stream",
          "name": "stdout",
          "text": [
            "10 4 66 "
          ]
        }
      ]
    },
    {
      "cell_type": "code",
      "source": [
        "# Write a python program to print even numbers in a list.\n",
        "# By using While loop.\n",
        "\n",
        "list1 = [10,24,4,45,66,93]\n",
        "num = 0 \n",
        "while(num < len(list1)):\n",
        "   if list1[num] % 2 == 0:\n",
        "      print(list1[num],end=\" \")\n",
        "   num += 1"
      ],
      "metadata": {
        "id": "ElZWwCrqThTk",
        "colab": {
          "base_uri": "https://localhost:8080/"
        },
        "outputId": "9cd7808e-1fc9-4605-e62c-6b61150d8302"
      },
      "execution_count": null,
      "outputs": [
        {
          "output_type": "stream",
          "name": "stdout",
          "text": [
            "10 24 4 66 "
          ]
        }
      ]
    },
    {
      "cell_type": "code",
      "source": [
        "# Write a python program to print odd numbers in a list.\n",
        "# By using for loop.\n",
        "list2 = [10,21,4,45,66,93]\n",
        "for num in list1:\n",
        "  if num%2!=0:\n",
        "    print(num,end =\" \")"
      ],
      "metadata": {
        "id": "D97cvUSbUBqJ",
        "colab": {
          "base_uri": "https://localhost:8080/"
        },
        "outputId": "0fd3f3e8-74e3-41f0-84b7-ce70625a67e1"
      },
      "execution_count": null,
      "outputs": [
        {
          "output_type": "stream",
          "name": "stdout",
          "text": [
            "45 93 "
          ]
        }
      ]
    },
    {
      "cell_type": "code",
      "source": [
        "# Write a python program to print odd numbers in a list.\n",
        "# By using While loop.\n",
        "list2 = [10,21,4,45,66,93]\n",
        "i =0\n",
        "while(i< len(list2)):\n",
        "  if list2[i] % 2 !=0:\n",
        "    print(list2[i],end=\" \")\n",
        "  i += 1"
      ],
      "metadata": {
        "id": "gyRhPxTrUZ8l",
        "colab": {
          "base_uri": "https://localhost:8080/"
        },
        "outputId": "122c6458-8463-413d-a25b-c0854d25ef06"
      },
      "execution_count": null,
      "outputs": [
        {
          "output_type": "stream",
          "name": "stdout",
          "text": [
            "21 45 93 "
          ]
        }
      ]
    },
    {
      "cell_type": "code",
      "source": [
        "# Write a python program to Remove empty list from list.\n",
        "test_list = [5,6,[],3,[],[],9]\n",
        "print(\"The original list is : \" + str(test_list))\n",
        "while [] in test_list:\n",
        "  test_list.remove([])\n",
        "print(\"List after empty list removal: \" + str(test_list))"
      ],
      "metadata": {
        "id": "eGsUUBLAVHpA",
        "colab": {
          "base_uri": "https://localhost:8080/"
        },
        "outputId": "5cf544bf-e36f-4740-a7af-d03f48be6801"
      },
      "execution_count": null,
      "outputs": [
        {
          "output_type": "stream",
          "name": "stdout",
          "text": [
            "The original list is : [5, 6, [], 3, [], [], 9]\n",
            "List after empty list removal: [5, 6, 3, 9]\n"
          ]
        }
      ]
    },
    {
      "cell_type": "code",
      "source": [
        "# Write a python program to Cloning or Copying a list.\n",
        "def Cloning(li1):\n",
        "    li_copy = li1.copy()\n",
        "    return li_copy\n",
        "li1 = [4,8,2,10,15,18]\n",
        "li2 = Cloning(li1)\n",
        "print(\"Original list: \",li1)\n",
        "print(\"After Clloning: \",li2)"
      ],
      "metadata": {
        "id": "nuMCRHH5W3xg",
        "colab": {
          "base_uri": "https://localhost:8080/"
        },
        "outputId": "c8a6ae45-8921-42d8-ed42-a3fe954ba3fd"
      },
      "execution_count": null,
      "outputs": [
        {
          "output_type": "stream",
          "name": "stdout",
          "text": [
            "Original list:  [4, 8, 2, 10, 15, 18]\n",
            "After Clloning:  [4, 8, 2, 10, 15, 18]\n"
          ]
        }
      ]
    },
    {
      "cell_type": "code",
      "source": [
        "# Write a python program to count occurrence of elelment in a list.\n",
        "def countX(lst,x):\n",
        "    return lst.count(x)\n",
        "lst = [8,6,8,10,8,20,10,8,8,9]\n",
        "x = 8\n",
        "print(\"{} has occurred {} times\".format(x,countX(lst,x)))"
      ],
      "metadata": {
        "id": "uJUY5jCOXyCD",
        "colab": {
          "base_uri": "https://localhost:8080/"
        },
        "outputId": "26e8a5f6-39ca-4f06-bdbc-da3d1aafb05d"
      },
      "execution_count": null,
      "outputs": [
        {
          "output_type": "stream",
          "name": "stdout",
          "text": [
            "8 has occurred 5 times\n"
          ]
        }
      ]
    }
  ]
}