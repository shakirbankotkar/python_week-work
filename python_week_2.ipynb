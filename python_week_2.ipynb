{
  "nbformat": 4,
  "nbformat_minor": 0,
  "metadata": {
    "colab": {
      "provenance": [],
      "collapsed_sections": [],
      "authorship_tag": "ABX9TyNPWiB1WWYfJG3z4oYv2ssJ",
      "include_colab_link": true
    },
    "kernelspec": {
      "name": "python3",
      "display_name": "Python 3"
    },
    "language_info": {
      "name": "python"
    }
  },
  "cells": [
    {
      "cell_type": "markdown",
      "metadata": {
        "id": "view-in-github",
        "colab_type": "text"
      },
      "source": [
        "<a href=\"https://colab.research.google.com/github/shakirbankotkar/python_week-work/blob/main/python_week_2.ipynb\" target=\"_parent\"><img src=\"https://colab.research.google.com/assets/colab-badge.svg\" alt=\"Open In Colab\"/></a>"
      ]
    },
    {
      "cell_type": "code",
      "execution_count": null,
      "metadata": {
        "id": "62PAG-j9JBOA"
      },
      "outputs": [],
      "source": []
    },
    {
      "cell_type": "markdown",
      "source": [
        "***SECTION-A***"
      ],
      "metadata": {
        "id": "SLP09deqfBPj"
      }
    },
    {
      "cell_type": "code",
      "execution_count": null,
      "metadata": {
        "id": "6foxKBmQSrxo",
        "colab": {
          "base_uri": "https://localhost:8080/"
        },
        "outputId": "3e5be659-02ea-4414-fe40-98408338c349"
      },
      "outputs": [
        {
          "output_type": "stream",
          "name": "stdout",
          "text": [
            "3\n",
            "3\n"
          ]
        }
      ],
      "source": [
        "def sum_three(a,b,c):\n",
        "   if a==b or b==c or c==a:\n",
        "     sum=3\n",
        "   else:\n",
        "    sum=3\n",
        "   return sum\n",
        "print(sum_three(2,3,3))\n",
        "print(sum_three(3,2,2))\n",
        "\n"
      ]
    },
    {
      "cell_type": "code",
      "source": [
        "def DtoLit(dict):\n",
        "  dict = {'fardin':22, 'switej':16, 'pratik':37}\n",
        "  list = [(k,v) for k, v in dict.items()]\n",
        "\n",
        "  list.sort(key = lambda x:x[0])\n",
        "  return list\n",
        "print(DtoLit(dict))"
      ],
      "metadata": {
        "colab": {
          "base_uri": "https://localhost:8080/"
        },
        "id": "iSonwEFPR2AX",
        "outputId": "f2094417-db78-434b-8e85-9ebd67318f90"
      },
      "execution_count": null,
      "outputs": [
        {
          "output_type": "stream",
          "name": "stdout",
          "text": [
            "[('fardin', 22), ('pratik', 37), ('switej', 16)]\n"
          ]
        }
      ]
    },
    {
      "cell_type": "code",
      "source": [
        "def replaceVowels(str, K):\n",
        "  vowels = 'aeiou'\n",
        "  for i in vowels:\n",
        "    str = str.replace(i, K)\n",
        "  return str\n",
        "INPUT_STR = \"pride and prejudice\"\n",
        "K = \"o\"\n",
        "\n",
        "print(\"Input string=\" , INPUT_STR)\n",
        "print(\"Specified vowel=\", K)\n",
        "print(\"After replacing=\", replaceVowels(INPUT_STR, K))\n"
      ],
      "metadata": {
        "colab": {
          "base_uri": "https://localhost:8080/"
        },
        "id": "9vM9U5g5Sumf",
        "outputId": "e1bafad2-755d-4f48-c1b2-48246f5b5523"
      },
      "execution_count": null,
      "outputs": [
        {
          "output_type": "stream",
          "name": "stdout",
          "text": [
            "Input string= pride and prejudice\n",
            "Specified vowel= o\n",
            "After replacing= prodo ond projodoco\n"
          ]
        }
      ]
    },
    {
      "cell_type": "code",
      "source": [
        "Amar_Prem = \"Pushpa, I hate tears....\"\n",
        "g = list(Amar_Prem)\n",
        "print(g)\n",
        "dm = []\n",
        "for i in g:\n",
        "  dm.extend(ord(num) for num in i)\n",
        "print(dm)\n",
        "\n",
        "odd = []\n",
        "even = []\n",
        "for i in dm:\n",
        "  if(i % 2 ==0):\n",
        "    even.append(i)\n",
        "  else:\n",
        "    odd.append(i)"
      ],
      "metadata": {
        "colab": {
          "base_uri": "https://localhost:8080/"
        },
        "id": "CvxD5yeUX0dR",
        "outputId": "a6b2b19f-d5e4-4cee-f1a4-0ffed2d4768e"
      },
      "execution_count": null,
      "outputs": [
        {
          "output_type": "stream",
          "name": "stdout",
          "text": [
            "['P', 'u', 's', 'h', 'p', 'a', ',', ' ', 'I', ' ', 'h', 'a', 't', 'e', ' ', 't', 'e', 'a', 'r', 's', '.', '.', '.', '.']\n",
            "[80, 117, 115, 104, 112, 97, 44, 32, 73, 32, 104, 97, 116, 101, 32, 116, 101, 97, 114, 115, 46, 46, 46, 46]\n"
          ]
        }
      ]
    },
    {
      "cell_type": "code",
      "source": [
        "def k2h2(st):\n",
        "  res = []\n",
        "  for index, c in enumerate(st):\n",
        "    if index % 2 == 0:\n",
        "      res.append(c.upper())\n",
        "    else:\n",
        "      res.append(c.lower())\n",
        "  return '' .join(res)\n",
        "print(k2h2(\"Tussi Ja Rahe Ho? Tussi Na Jao!\"))\n",
        "\t\n"
      ],
      "metadata": {
        "colab": {
          "base_uri": "https://localhost:8080/"
        },
        "id": "FuSa1qlLkdB0",
        "outputId": "3828bb70-c76e-494b-91d3-df1c96b2dd42"
      },
      "execution_count": null,
      "outputs": [
        {
          "output_type": "stream",
          "name": "stdout",
          "text": [
            "TuSsI Ja rAhE Ho? TuSsI Na jAo!\n"
          ]
        }
      ]
    },
    {
      "cell_type": "markdown",
      "source": [
        "***SECTION-B***"
      ],
      "metadata": {
        "id": "SWvCOTr7fw0L"
      }
    },
    {
      "cell_type": "code",
      "source": [
        "#Write a python program to find sum of array.\n",
        "def _sum(arr):\n",
        "  sum=0\n",
        "  for i in arr:\n",
        "    sum = sum+i\n",
        "  return(sum)\n",
        "arr = [34,23,4,21,2]\n",
        "n = len(arr)\n",
        "ans = _sum(arr)\n",
        "print(\"sum of the array is \",ans)"
      ],
      "metadata": {
        "id": "JVWqratvlYGv",
        "colab": {
          "base_uri": "https://localhost:8080/"
        },
        "outputId": "0feb1a21-4ce7-4e22-dc5d-fc35452ad284"
      },
      "execution_count": null,
      "outputs": [
        {
          "output_type": "stream",
          "name": "stdout",
          "text": [
            "sum of the array is  84\n"
          ]
        }
      ]
    },
    {
      "cell_type": "code",
      "source": [
        "#Write a python program to split the array nd add the first part to end.\n",
        "def splitArr(a, n, k):\n",
        "    b = a[ :k]\n",
        "    return(a[k::]+b[::])\n",
        "arr = [12, 10, 5, 6, 52, 36]\n",
        "n = len(arr)\n",
        "position = 2\n",
        "arr = splitArr(arr,n,position)\n",
        "for i in range(0, n):\n",
        "    print(arr[i], end =' ')"
      ],
      "metadata": {
        "id": "48PRP1Asf0xF",
        "outputId": "8093e909-f082-4359-ce95-d3c349ae2d14",
        "colab": {
          "base_uri": "https://localhost:8080/"
        }
      },
      "execution_count": null,
      "outputs": [
        {
          "output_type": "stream",
          "name": "stdout",
          "text": [
            "5 6 52 36 12 10 "
          ]
        }
      ]
    },
    {
      "cell_type": "code",
      "source": [
        "# Write a python program to Cloning or Copying a list.\n",
        "def Cloning(li1):\n",
        "    li_copy = li1.copy()\n",
        "    return li_copy\n",
        "li1 = [4,8,2,10,15,18]\n",
        "li2 = Cloning(li1)\n",
        "print(\"Original list: \",li1)\n",
        "print(\"After Clloning: \",li2)"
      ],
      "metadata": {
        "id": "nuMCRHH5W3xg",
        "colab": {
          "base_uri": "https://localhost:8080/"
        },
        "outputId": "1f132d5c-25e7-48ba-97df-6b6765992d00"
      },
      "execution_count": null,
      "outputs": [
        {
          "output_type": "stream",
          "name": "stdout",
          "text": [
            "Original list:  [4, 8, 2, 10, 15, 18]\n",
            "After Clloning:  [4, 8, 2, 10, 15, 18]\n"
          ]
        }
      ]
    },
    {
      "cell_type": "code",
      "source": [
        "# Write a python program to count occurrence of elelment in a list.\n",
        "def countX(lst,x):\n",
        "    return lst.count(x)\n",
        "lst = [8,6,8,10,8,20,10,8,8,9]\n",
        "x = 8\n",
        "print(\"{} has occurred {} times\".format(x,countX(lst,x)))"
      ],
      "metadata": {
        "id": "uJUY5jCOXyCD",
        "colab": {
          "base_uri": "https://localhost:8080/"
        },
        "outputId": "8f1d458e-3a5b-40f1-b82a-baa6f4d972a9"
      },
      "execution_count": null,
      "outputs": [
        {
          "output_type": "stream",
          "name": "stdout",
          "text": [
            "8 has occurred 5 times\n"
          ]
        }
      ]
    },
    {
      "cell_type": "code",
      "source": [
        "#Write a python program to check if given array is monotonic.\n",
        "def isMonotonic(A):\n",
        "  return(all(A[i]<= A[i+1] for i in range(len(A) -1))or all(A[i] >= A[i+1] for i in range(len(A) - 1)))\n",
        "A = [6,5,4,4]\n",
        "print(isMonotonic(A))"
      ],
      "metadata": {
        "id": "F7HJ-Et1hTyH",
        "colab": {
          "base_uri": "https://localhost:8080/"
        },
        "outputId": "b7959380-1529-43a1-b41e-f38e2e8fa411"
      },
      "execution_count": null,
      "outputs": [
        {
          "output_type": "stream",
          "name": "stdout",
          "text": [
            "True\n"
          ]
        }
      ]
    },
    {
      "cell_type": "markdown",
      "source": [
        "***SECTION-C***"
      ],
      "metadata": {
        "id": "kX0Ed6FdhyyQ"
      }
    },
    {
      "cell_type": "code",
      "source": [],
      "metadata": {
        "id": "I20plSAbh2ud"
      },
      "execution_count": null,
      "outputs": []
    }
  ]
}